{
 "cells": [
  {
   "cell_type": "markdown",
   "metadata": {},
   "source": [
    "## Sterowanie robotem przy pomocy kontrolera - ipywidgets \n",
    "---\n",
    "Głównym celem użycia biblioteki ipywidgets jest prostota połączenia kontrolera do robota.   \n",
    "Zacznijmy od zaimportowania biblioteki.   \n",
    "ipywidgets pozwoli nam stworzyć interaktywne widgety w środowisku Jupytier"
   ]
  },
  {
   "cell_type": "markdown",
   "metadata": {},
   "source": [
    "### Podłączenie kontrolera\n",
    "\n",
    "Pierwszą rzeczą, którą chcemy zrobić, jest podłączenie kontrolera do komputera.   \n",
    "Następnie musimy określić `index` naszego pada - jeżeli masz podłączony tylko jeden pad  \n",
    "spróbuj pominąć ten krok.\n",
    "\n",
    "1. Odwiedź stronę [http://html5gamepad.com](http://html5gamepad.com),  \n",
    "2. Naciśnij przyciski na używanym gamepadzie,\n",
    "3. Zapamiętaj ``index`` gamepada.\n",
    "\n",
    "Kolejnnym krokiem jest stworzenie instancji widgetu `Controller`, którego będziemy używać do sterowania naszym robotem.  \n",
    "Widżet `Controller` przyjmuje parametr `index` z wcześniejszego kroku.\n",
    "\n",
    "Na końcu wyświetlimy widget w konsoli"
   ]
  },
  {
   "cell_type": "code",
   "execution_count": null,
   "metadata": {},
   "outputs": [],
   "source": [
    "import ipywidgets.widgets as widgets\n",
    "\n",
    "controller = widgets.Controller(index=0)  # replace with index of your controller\n",
    "\n",
    "display(controller)"
   ]
  },
  {
   "cell_type": "markdown",
   "metadata": {},
   "source": [
    "Jeżeli pad się poprawnie połączył powinin wyświetlić się komunikat ``Connect gamepad and press any button``. Spróbuj ponaciskać przyciski!"
   ]
  },
  {
   "cell_type": "markdown",
   "metadata": {},
   "source": [
    "### Połączenie robota\n",
    "\n",
    "Wykorzystamy bibliotekę [traitlets](https://traitlets.readthedocs.io/en/stable/) ponieważ użyta jest już wcześniej plikach robota. Interfejsowanie się ze zmiennymi tej biblioteki będzie prostsze jeżeli jej użyjemy.  \n",
    "  \n",
    "### W paru punktach o traitlets\n",
    "1. Biblioteka 'wrapuje' podstawowe zmienne (float, int, string) w dodatkowe funkcje,\n",
    "2. zmienne definiuje się: `steering = traitlets.Float()`,\n",
    "3. nowe funkcje to na przykład:   \n",
    "    a) observe - pozwala na wywołanie określonej funkcji wraz z każdą modyfikacją zmiennej   \n",
    "    b) dlink - pozwala na \"połączenie\" dwóch zmiennych - ich wartości zawszę będą sobie odpowiadać   \n",
    "   \n",
    "Polecam dalszą samodzielną analizę biblioteki [traitlets](https://traitlets.readthedocs.io/en/stable/)\n",
    "\n",
    "\n",
    "\n",
    "**UWAGA po paru sekundach po uruchomienu następnej instrukcji robot będzie sterowany padem**\n"
   ]
  },
  {
   "cell_type": "code",
   "execution_count": null,
   "metadata": {},
   "outputs": [],
   "source": [
    "import traitlets\n",
    "from jetracer.nvidia_racecar import NvidiaRacecar\n",
    "car = NvidiaRacecar()\n",
    "\n",
    "def update_steer(change):\n",
    "    car.steering = change['new']\n",
    "    \n",
    "def update_throttle(change):\n",
    "    car.throttle = change['new']*-1    \n",
    "\n",
    "controller.axes[0].observe(update_steer, names='value')\n",
    "controller.axes[3].observe(update_throttle, names='value')"
   ]
  },
  {
   "cell_type": "markdown",
   "metadata": {},
   "source": [
    "Jeżeli wszystko zadziałało poprawnie robot powinien być sterowany padem!"
   ]
  },
  {
   "cell_type": "markdown",
   "metadata": {},
   "source": [
    "### Pora na obraz\n",
    "\n",
    "Przy pomocy biblioteki `ipwidgets` możemy również wyświtlać do termianlu grafiki. Świetnym testem tej funkcji będzie przesyłanie obrazu z kamery robota.   \n",
    "Zacznijmy od stworzenia obiektu klasy `Image`\n"
   ]
  },
  {
   "cell_type": "code",
   "execution_count": null,
   "metadata": {},
   "outputs": [],
   "source": [
    "img = widgets.Image(format='jpeg', width=640, height=480)"
   ]
  },
  {
   "cell_type": "markdown",
   "metadata": {},
   "source": [
    "W tym momencie nasz obiekt `img` jest pusty. Musimy go zapełnić obrazem z kamery, aby to zrobić zaimportujmy pliki Jetsona   \n",
    "   \n",
    "Następnie tworzymy obiekt kamery i włączmy go"
   ]
  },
  {
   "cell_type": "code",
   "execution_count": null,
   "metadata": {},
   "outputs": [],
   "source": [
    "from jetcam.csi_camera import CSICamera\n",
    "\n",
    "camera = CSICamera(width=640, height=480)\n",
    "camera.running = True"
   ]
  },
  {
   "cell_type": "markdown",
   "metadata": {},
   "source": [
    "Przed połączeniem zmiennych musimy dokonąć pewnego preprocesingu obrazu.   \n",
    "Nasza klasa kamery obecnie generuje wartości tylko w formacie BGR8 (niebieski, zielony, czerwony, 8-bitowy),  \n",
    "podczas gdy nasz widget obrazu akceptuje wartości w skompresowanym formacie *JPEG*. Użyjemy do tego funkcji `bgr8_to_jpeg` z plików Jetsona `jetcam.utils`   \n",
    "   \n",
    "Ostatnim krokiem jest połączenie dwóch zmiennych przy pomocy `traitlets`"
   ]
  },
  {
   "cell_type": "code",
   "execution_count": null,
   "metadata": {},
   "outputs": [],
   "source": [
    "from jetcam.utils import bgr8_to_jpeg\n",
    "\n",
    "camera_link = traitlets.dlink((camera, 'value'), (img, 'value'), transform=bgr8_to_jpeg)\n",
    "display(img)"
   ]
  },
  {
   "cell_type": "markdown",
   "metadata": {},
   "source": [
    "Kamera powinna działać!\n",
    "\n",
    "Możesz kliknąć prawym przyciskiem myszy na obraz i wybrać ``Create New View for Output`` aby obraz pojawił się w nowym oknie\n",
    "  \n",
    "Aby użyć kamery w innym notbooku zresetuj lub wyłącz kernel.\n",
    "  \n",
    "### To wszystko\n",
    "\n",
    "Miłej zabawy    \n",
    "stworzone przez: Michał Kozłowski"
   ]
  }
 ],
 "metadata": {
  "kernelspec": {
   "display_name": "Python 3",
   "language": "python",
   "name": "python3"
  },
  "language_info": {
   "codemirror_mode": {
    "name": "ipython",
    "version": 3
   },
   "file_extension": ".py",
   "mimetype": "text/x-python",
   "name": "python",
   "nbconvert_exporter": "python",
   "pygments_lexer": "ipython3",
   "version": "3.6.9"
  }
 },
 "nbformat": 4,
 "nbformat_minor": 4
}
