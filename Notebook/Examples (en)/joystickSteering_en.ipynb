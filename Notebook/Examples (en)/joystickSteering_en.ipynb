{
  "metadata": {
    "kernelspec": {
      "name": "python",
      "display_name": "Python (Pyodide)",
      "language": "python"
    },
    "language_info": {
      "codemirror_mode": {
        "name": "python",
        "version": 3
      },
      "file_extension": ".py",
      "mimetype": "text/x-python",
      "name": "python",
      "nbconvert_exporter": "python",
      "pygments_lexer": "ipython3",
      "version": "3.8"
    }
  },
  "nbformat_minor": 5,
  "nbformat": 4,
  "cells": [
    {
      "cell_type": "markdown",
      "source": "## Controlling the Robot with a Controller - pygame\n\nThe main goal of using the pygame library is to establish a direct connection between the controller and the robot.  \nLet's start by importing the library.  \npygame is the library that allows us to communicate with the controller.",
      "metadata": {},
      "id": "1803a288"
    },
    {
      "cell_type": "code",
      "source": "import pygame\nimport ipywidgets.widgets as widgets # biblioteka do wyświetlania\npygame.init()",
      "metadata": {},
      "execution_count": null,
      "outputs": [],
      "id": "c190b9fd"
    },
    {
      "cell_type": "markdown",
      "source": "Now, we will connect the controller.  \nPlease proceed to the next instructions only after this command returns a result.",
      "metadata": {},
      "id": "39c97f0e"
    },
    {
      "cell_type": "code",
      "source": "while True:\n    if pygame.joystick.get_count() < 1:\n        time.sleep(0.5)\n        continue\n    break\n\nprint(f\"Found {pygame.joystick.get_count()} joystick\")\njs = pygame.joystick.Joystick(0)\nname = js.get_name()\njs.init()\nprint(f\"connected to {name}\")",
      "metadata": {},
      "execution_count": null,
      "outputs": [],
      "id": "f3a99aa6"
    },
    {
      "cell_type": "markdown",
      "source": "---\nIf the controller has been successfully connected, you should see the following:\n\n```\nFound 1 joystick\nconnected to [Name of your controller]\n```\n\n---\n\nNow, I will show you how to read information about the joystick's position.",
      "metadata": {},
      "id": "8cc593df"
    },
    {
      "cell_type": "code",
      "source": "widg = widgets.Label(value='x: 0.0, y: 0.0') # widget do wyświetlenia\ndisplay(widg)\nloop = True\nwhile loop: # pętla\n    pygame.event.clear()\n    widg.value = f\"x: {round(js.get_axis(0),1)}, y: {round(js.get_axis(1),1)}\"\n    if js.get_button(1) == 1:\n        print('STOP')\n        loop = False",
      "metadata": {},
      "execution_count": null,
      "outputs": [],
      "id": "3c42a70e"
    },
    {
      "cell_type": "markdown",
      "source": "Move the left joystick and observe how the values change. Press the B button on the controller to end the reading.\n\nHere's an example of how to read the joystick:\n\n1. We start a while loop that runs as long as we want to analyze inputs.\n2. We clear the list of events - this step prevents the event queue from filling up.\n3. Using the `get_axis()` function, we obtain the joystick's value in the range -1 to 1.\n\n```\naxis 0 -> left-right - left joystick\naxis 1 -> up-down - left joystick\naxis 2 -> left-right - right joystick\naxis 3 -> up-down - right joystick\nbutton 1 -> B button (it will end the execution of the block)\n```\n\nNow, you can redirect this data to the robot's motors. Let's start by importing the helper files prepared by Jetson.",
      "metadata": {},
      "id": "9bc80345"
    },
    {
      "cell_type": "code",
      "source": "from jetracer.nvidia_racecar import NvidiaRacecar",
      "metadata": {},
      "execution_count": null,
      "outputs": [],
      "id": "bfe2dc04"
    },
    {
      "cell_type": "markdown",
      "source": "We will start by creating a car object, and then we will write a loop similar to the previous blocks to redirect controller data to the robot.  \nSince the controller returns values in the range of -1 to 1, we can directly assign them to the robot.",
      "metadata": {},
      "id": "173fd4ca"
    },
    {
      "cell_type": "code",
      "source": "car = NvidiaRacecar()\nskret, silnik = 0, 0\nloop = True\nwhile loop:\n    for event in pygame.event.get():\n        skret = round(js.get_axis(0),1)\n        silnik = round(js.get_axis(3),1)*-1\n        if js.get_button(1) == 1:\n            print('STOP')\n            loop = False\n    car.steering = skret\n    car.throttle = silnik",
      "metadata": {},
      "execution_count": null,
      "outputs": [],
      "id": "0d526a44"
    },
    {
      "cell_type": "markdown",
      "source": "Wykonywanie bloku możesz zatrzymać klikając B na kontrolerze. To wszystko w tym tutorialu  \n   \nstworzone przez: Michał Kozłowski ",
      "metadata": {},
      "id": "29ddddd1"
    }
  ]
}