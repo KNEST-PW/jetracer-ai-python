{
 "cells": [
  {
   "cell_type": "markdown",
   "id": "3d7befac",
   "metadata": {},
   "source": [
    "## Obsługa LIDAR'a\n",
    "\n",
    "---\n",
    "W ty tutorialu pokażę jak uruchomić lidar przy pomocy biblioteki rplidar.  \n",
    "na początek trzeba zainstalować bibliotekę przy pomocy komendy ```pip install rplidar-roboticia```   \n",
    "można to zrobić w terminalu lub blokiem poniżej usuwając znak #"
   ]
  },
  {
   "cell_type": "code",
   "execution_count": null,
   "id": "c7bd0b2c",
   "metadata": {},
   "outputs": [],
   "source": [
    "#!pip install rplidar-roboticia"
   ]
  },
  {
   "cell_type": "markdown",
   "id": "bb4058a8",
   "metadata": {},
   "source": [
    "teraz należy zlokalizować na jakim porcie znajduje się lidar, jeżeli używasz Jetson Nano AI Kit   \n",
    "to będzie to ```/dev/ttyACM1``` sprawdź czy biblioteka poprawnie wykrywa lidar uruchamiając poniższy blok  \n",
    "  \n",
    "**Ważne - upewnij się że lidar jest włączony, w innym wypadku nie zostanie wykryty!**"
   ]
  },
  {
   "cell_type": "code",
   "execution_count": null,
   "id": "c8ec32ed",
   "metadata": {},
   "outputs": [],
   "source": [
    "%matplotlib inline\n",
    "\n",
    "from rplidar import RPLidar\n",
    "PORT_NAME = '/dev/ttyACM1'\n",
    "\n",
    "lidar = RPLidar(PORT_NAME)\n",
    "info = lidar.get_info()\n",
    "if type(info) == type('string'):\n",
    "    raise Exception(\"Buffer jest pełen, spróbuj inny port\")\n",
    "health = lidar.get_health()\n",
    "for i in info:\n",
    "    print(i,\"-\", info[i])\n",
    "print(f'health - {health[0]}')\n",
    "\n",
    "lidar.stop()\n",
    "lidar.stop_motor()\n",
    "\n",
    "    "
   ]
  },
  {
   "cell_type": "markdown",
   "id": "f3369410",
   "metadata": {},
   "source": [
    "---\n",
    "Lidar powinien się zatrzymać a blok powinien zwrócić podobny wynik:   \n",
    "```\n",
    "model - 24\n",
    "firmware - (1, 29)\n",
    "hardware - 7\n",
    "serialnumber - BC91ED93C0EA98C7A0E69BF52C4F4560\n",
    "health - Good\n",
    "```\n",
    "\n",
    "jeżeli w wyniku uruchomienia instrukcji pojawia się błąd:\n",
    "```\n",
    "FileNotFoundError: [Errno 2] No such file or directory: '/dev/ttyUSB1'\n",
    "```\n",
    "spróbuj inny port\n",
    "\n",
    "---\n",
    "\n",
    "Teraz przetestujemy czy lidar poprawnie zbiera pomiary odpal kolejny blok!"
   ]
  },
  {
   "cell_type": "code",
   "execution_count": null,
   "id": "7bf96eea",
   "metadata": {},
   "outputs": [],
   "source": [
    "lidar.start_motor()\n",
    "\n",
    "for i, scan in enumerate(lidar.iter_scans()):\n",
    "    print('%d: Got %d measurments' % (i, len(scan)))\n",
    "    if i > 8:\n",
    "        break\n",
    "\n",
    "lidar.stop_motor()"
   ]
  },
  {
   "cell_type": "markdown",
   "id": "5b16ecff",
   "metadata": {},
   "source": [
    "---\n",
    "Lidar powinien się zakręcić a funkcja powinna zwrócić podobny wynik:\n",
    "```\n",
    "0: Got 127 measurments\n",
    "1: Got 171 measurments\n",
    "2: Got 173 measurments\n",
    "3: Got 167 measurments\n",
    "4: Got 172 measurments\n",
    "5: Got 174 measurments\n",
    "6: Got 175 measurments\n",
    "7: Got 167 measurments\n",
    "8: Got 172 measurments\n",
    "9: Got 168 measurments\n",
    "```\n",
    "oznacza to że wszytko działa poprawnie!\n",
    "\n",
    "---\n",
    "Teraz przejdźmy do tworzenia prostej mapy otoczenia"
   ]
  },
  {
   "cell_type": "code",
   "execution_count": null,
   "id": "52d1404a",
   "metadata": {},
   "outputs": [],
   "source": [
    "import matplotlib.pyplot as plt\n",
    "import numpy as np\n",
    "import time\n",
    "from IPython.display import display, clear_output\n",
    "\n",
    "def run_lidar():\n",
    "    lidar = RPLidar(PORT_NAME)\n",
    "    \n",
    "    # wyczyszczenie danych pozostałych po poprzednim skanie\n",
    "    lidar.clean_input()\n",
    "    \n",
    "    fig, ax = plt.subplots(subplot_kw={'projection': 'polar'})\n",
    "    ax.set_rmax(4000)\n",
    "    ax.grid(True)\n",
    "    \n",
    "    try:\n",
    "        print(\"Starting to collect data...\")\n",
    "        \n",
    "        while True:\n",
    "            start_time = time.time()\n",
    "            scans = []\n",
    "            \n",
    "            lidar.start_motor()\n",
    "            for scan in lidar.iter_scans(max_buf_meas=5000):\n",
    "                scans.append(scan)\n",
    "                if time.time() - start_time > 2:  # Collect data for 2 seconds\n",
    "                    break\n",
    "\n",
    "            # zatrzymanie lasera na czas drukowania wykresu\n",
    "            lidar.stop()\n",
    "            \n",
    "            # wyczyść zawartość wykresu\n",
    "            ax.clear()\n",
    "            ax.set_rmax(4000)\n",
    "            ax.grid(True)\n",
    "            \n",
    "            # nanieś dane na wykres\n",
    "            for scan in scans:\n",
    "                angles = [item[1] for item in scan]\n",
    "                distances = [item[2] for item in scan]\n",
    "                ax.scatter(np.radians(angles), distances, c='r', s=5)\n",
    "            \n",
    "            clear_output()\n",
    "            display(fig) # wyświetlenie outputu\n",
    "            \n",
    "            \n",
    "    except Exception as e:\n",
    "        print(f\"An error occurred: {e}\")\n",
    "    except KeyboardInterrupt:\n",
    "        print(\"Stopping...\")\n",
    "        lidar.stop()\n",
    "        lidar.stop_motor()\n",
    "\n",
    "if __name__ == '__main__':\n",
    "    run_lidar()"
   ]
  },
  {
   "cell_type": "code",
   "execution_count": null,
   "id": "0028b6c9",
   "metadata": {},
   "outputs": [],
   "source": []
  }
 ],
 "metadata": {
  "kernelspec": {
   "display_name": "Python 3",
   "language": "python",
   "name": "python3"
  },
  "language_info": {
   "codemirror_mode": {
    "name": "ipython",
    "version": 3
   },
   "file_extension": ".py",
   "mimetype": "text/x-python",
   "name": "python",
   "nbconvert_exporter": "python",
   "pygments_lexer": "ipython3",
   "version": "3.6.9"
  }
 },
 "nbformat": 4,
 "nbformat_minor": 5
}
