{
 "cells": [
  {
   "cell_type": "markdown",
   "id": "1803a288",
   "metadata": {},
   "source": [
    "## Sterowanie robotem przy pomocy kontrolera - pygame \n",
    "---\n",
    "Głównym celem użycia biblioteki pygame jest możliwość bezpośredniego połączenia kontrolera do robota.   \n",
    "Zacznijmy od zaimportowania biblioteki.\n",
    "pygame to biblioteka dzięki której komunikujemy się z kontrolerem"
   ]
  },
  {
   "cell_type": "code",
   "execution_count": null,
   "id": "c190b9fd",
   "metadata": {},
   "outputs": [],
   "source": [
    "import pygame\n",
    "import ipywidgets.widgets as widgets # biblioteka do wyświetlania\n",
    "pygame.init()"
   ]
  },
  {
   "cell_type": "markdown",
   "id": "39c97f0e",
   "metadata": {},
   "source": [
    "Teraz podłączymy kontroler  \n",
    "przejdź do kolejnych instrukcji dopiero po tym jak komenda zwróci wynik"
   ]
  },
  {
   "cell_type": "code",
   "execution_count": null,
   "id": "f3a99aa6",
   "metadata": {},
   "outputs": [],
   "source": [
    "while True:\n",
    "    if pygame.joystick.get_count() < 1:\n",
    "        time.sleep(0.5)\n",
    "        continue\n",
    "    break\n",
    "\n",
    "print(f\"Found {pygame.joystick.get_count()} joystick\")\n",
    "js = pygame.joystick.Joystick(0)\n",
    "name = js.get_name()\n",
    "js.init()\n",
    "print(f\"connected to {name}\")"
   ]
  },
  {
   "cell_type": "markdown",
   "id": "8cc593df",
   "metadata": {},
   "source": [
    "---\n",
    "Jeżeli poprawnie połączył się kontroler powyżej powinno pojawić się:\n",
    "```\n",
    "Found 1 joystick\n",
    "connected to [Nazwa twojego kontrolera]\n",
    "```  \n",
    "---\n",
    "Teraz pokaże jak zczytać informacje o pozycji joysticka"
   ]
  },
  {
   "cell_type": "code",
   "execution_count": null,
   "id": "3c42a70e",
   "metadata": {},
   "outputs": [],
   "source": [
    "widg = widgets.Label(value='x: 0.0, y: 0.0') # widget do wyświetlenia\n",
    "display(widg)\n",
    "loop = True\n",
    "while loop: # pętla\n",
    "    pygame.event.clear()\n",
    "    widg.value = f\"x: {round(js.get_axis(0),1)}, y: {round(js.get_axis(1),1)}\"\n",
    "    if js.get_button(1) == 1:\n",
    "        print('STOP')\n",
    "        loop = False"
   ]
  },
  {
   "cell_type": "markdown",
   "id": "9bc80345",
   "metadata": {},
   "source": [
    "Poruszaj lewym joystickiem i zobacz jak zmieniają się wartości - naciśnij B na padzie aby zakończyć zczytywanie\n",
    "\n",
    "---\n",
    "Ten przykład pokazuje jak czytać joystick:\n",
    "1. zaczynamy pętle while która działa tak długo jak chcemy analizować inputy\n",
    "2. czyścimy listę eventów - ten krok zapobiega zapełnieniu kolejki\n",
    "3. przy pomocy funckji `get_axis()` uzyskujemy wartość joysticka w przedziale -1 -> 1\n",
    "\n",
    "---\n",
    "```\n",
    "axis 0 -> lewo prawo - lewy joysitic  \n",
    "axis 1 -> góra dół - lewy joysitick  \n",
    "axi2 2 -> prawo lewo - prawy joysitic  \n",
    "axis 3 -> góra dół - prawy joysitick  \n",
    "button 1 -> przycisk B (zakończy on wywoływanie bloku)\n",
    "```\n",
    "---\n",
    "Teraz wystarczy te dane zkierować do silników robota   \n",
    "Zacznijmy od zaimportowania plików pomocniczych przygotowanych przez Jetsona"
   ]
  },
  {
   "cell_type": "code",
   "execution_count": null,
   "id": "bfe2dc04",
   "metadata": {},
   "outputs": [],
   "source": [
    "from jetracer.nvidia_racecar import NvidiaRacecar"
   ]
  },
  {
   "cell_type": "markdown",
   "id": "173fd4ca",
   "metadata": {},
   "source": [
    "Zaczniemy od stworzenia obiektu samochodu a następnie napiszemy taką pętlę jak w poprzednich blokach i przekierujemy dane z kontrolera do robota.  \n",
    "Ponieważ kontorler zwraca wartości w przedziale -1, 1 możemy je od razu przypisać do robota"
   ]
  },
  {
   "cell_type": "code",
   "execution_count": null,
   "id": "0d526a44",
   "metadata": {},
   "outputs": [],
   "source": [
    "car = NvidiaRacecar()\n",
    "skret, silnik = 0, 0\n",
    "loop = True\n",
    "while loop:\n",
    "    for event in pygame.event.get():\n",
    "        skret = round(js.get_axis(0),1)\n",
    "        silnik = round(js.get_axis(3),1)*-1\n",
    "        if js.get_button(1) == 1:\n",
    "            print('STOP')\n",
    "            loop = False\n",
    "    car.steering = skret\n",
    "    car.throttle = silnik"
   ]
  },
  {
   "cell_type": "markdown",
   "id": "29ddddd1",
   "metadata": {},
   "source": [
    "Wykonywanie bloku możesz zatrzymać klikając B na kontrolerze. To wszystko w tym tutorialu  \n",
    "   \n",
    "stworzone przez: Michał Kozłowski "
   ]
  }
 ],
 "metadata": {
  "kernelspec": {
   "display_name": "Python 3",
   "language": "python",
   "name": "python3"
  },
  "language_info": {
   "codemirror_mode": {
    "name": "ipython",
    "version": 3
   },
   "file_extension": ".py",
   "mimetype": "text/x-python",
   "name": "python",
   "nbconvert_exporter": "python",
   "pygments_lexer": "ipython3",
   "version": "3.6.9"
  }
 },
 "nbformat": 4,
 "nbformat_minor": 5
}
