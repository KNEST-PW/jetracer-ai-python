{
  "metadata": {
    "kernelspec": {
      "name": "python",
      "display_name": "Python (Pyodide)",
      "language": "python"
    },
    "language_info": {
      "codemirror_mode": {
        "name": "python",
        "version": 3
      },
      "file_extension": ".py",
      "mimetype": "text/x-python",
      "name": "python",
      "nbconvert_exporter": "python",
      "pygments_lexer": "ipython3",
      "version": "3.8"
    }
  },
  "nbformat_minor": 5,
  "nbformat": 4,
  "cells": [
    {
      "cell_type": "markdown",
      "source": "## Obsługa LIDAR'a\n\n---\nW tym tutorialu pokażę jak uruchomić lidar przy pomocy biblioteki rplidar.  \nna początek trzeba zainstalować bibliotekę przy pomocy komendy ```pip install rplidar-roboticia```   \nmożna to zrobić w terminalu lub blokiem poniżej usuwając znak #",
      "metadata": {},
      "id": "3d7befac"
    },
    {
      "cell_type": "code",
      "source": "#!pip install rplidar-roboticia",
      "metadata": {},
      "execution_count": null,
      "outputs": [],
      "id": "c7bd0b2c"
    },
    {
      "cell_type": "markdown",
      "source": "teraz należy zlokalizować na jakim porcie znajduje się lidar, jeżeli używasz Jetson Nano AI Kit   \nto będzie to ```/dev/ttyACM1``` sprawdź czy biblioteka poprawnie wykrywa lidar uruchamiając poniższy blok  \n  \n**Ważne - upewnij się że lidar jest włączony, w innym wypadku nie zostanie wykryty!**",
      "metadata": {},
      "id": "bb4058a8"
    },
    {
      "cell_type": "code",
      "source": "%matplotlib inline\n\nfrom rplidar import RPLidar\nPORT_NAME = '/dev/ttyACM1'\n\nlidar = RPLidar(PORT_NAME)\ninfo = lidar.get_info()\nif type(info) == type('string'):\n    raise Exception(\"Buffer jest pełen, spróbuj inny port\")\nhealth = lidar.get_health()\nfor i in info:\n    print(i,\"-\", info[i])\nprint(f'health - {health[0]}')\n\nlidar.stop()\nlidar.stop_motor()\n\n    ",
      "metadata": {},
      "execution_count": null,
      "outputs": [],
      "id": "c8ec32ed"
    },
    {
      "cell_type": "markdown",
      "source": "---\nLidar powinien się zatrzymać a blok powinien zwrócić podobny wynik:   \n```\nmodel - 24\nfirmware - (1, 29)\nhardware - 7\nserialnumber - BC91ED93C0EA98C7A0E69BF52C4F4560\nhealth - Good\n```\n\njeżeli w wyniku uruchomienia instrukcji pojawia się błąd:\n```\nFileNotFoundError: [Errno 2] No such file or directory: '/dev/ttyUSB1'\n```\nspróbuj inny port\n\n---\n\nTeraz przetestujemy czy lidar poprawnie zbiera pomiary odpal kolejny blok!",
      "metadata": {},
      "id": "f3369410"
    },
    {
      "cell_type": "code",
      "source": "lidar.start_motor()\n\nfor i, scan in enumerate(lidar.iter_scans()):\n    print('%d: Got %d measurments' % (i, len(scan)))\n    if i > 8:\n        break\n\nlidar.stop_motor()",
      "metadata": {},
      "execution_count": null,
      "outputs": [],
      "id": "7bf96eea"
    },
    {
      "cell_type": "markdown",
      "source": "---\nLidar powinien się zakręcić a funkcja powinna zwrócić podobny wynik:\n```\n0: Got 127 measurments\n1: Got 171 measurments\n2: Got 173 measurments\n3: Got 167 measurments\n4: Got 172 measurments\n5: Got 174 measurments\n6: Got 175 measurments\n7: Got 167 measurments\n8: Got 172 measurments\n9: Got 168 measurments\n```\noznacza to że wszytko działa poprawnie!\n\n---\nTeraz przejdźmy do tworzenia prostej mapy otoczenia",
      "metadata": {},
      "id": "5b16ecff"
    },
    {
      "cell_type": "code",
      "source": "import matplotlib.pyplot as plt\nimport numpy as np\nimport time\nfrom IPython.display import display, clear_output\n\ndef run_lidar():\n    lidar = RPLidar(PORT_NAME)\n    \n    # wyczyszczenie danych pozostałych po poprzednim skanie\n    lidar.clean_input()\n    \n    fig, ax = plt.subplots(subplot_kw={'projection': 'polar'})\n    ax.set_rmax(4000)\n    ax.grid(True)\n    \n    try:\n        print(\"Starting to collect data...\")\n        \n        while True:\n            start_time = time.time()\n            scans = []\n            \n            lidar.start_motor()\n            for scan in lidar.iter_scans(max_buf_meas=5000):\n                scans.append(scan)\n                if time.time() - start_time > 2:  # Collect data for 2 seconds\n                    break\n\n            # zatrzymanie lasera na czas drukowania wykresu\n            lidar.stop()\n            \n            # wyczyść zawartość wykresu\n            ax.clear()\n            ax.set_rmax(4000)\n            ax.grid(True)\n            \n            # nanieś dane na wykres\n            for scan in scans:\n                angles = [item[1] for item in scan]\n                distances = [item[2] for item in scan]\n                ax.scatter(np.radians(angles), distances, c='r', s=5)\n            \n            clear_output()\n            display(fig) # wyświetlenie outputu\n            \n            \n    except Exception as e:\n        print(f\"An error occurred: {e}\")\n    except KeyboardInterrupt:\n        print(\"Stopping...\")\n        lidar.stop()\n        lidar.stop_motor()\n\nif __name__ == '__main__':\n    run_lidar()",
      "metadata": {},
      "execution_count": null,
      "outputs": [],
      "id": "52d1404a"
    },
    {
      "cell_type": "code",
      "source": "",
      "metadata": {},
      "execution_count": null,
      "outputs": [],
      "id": "0028b6c9"
    }
  ]
}