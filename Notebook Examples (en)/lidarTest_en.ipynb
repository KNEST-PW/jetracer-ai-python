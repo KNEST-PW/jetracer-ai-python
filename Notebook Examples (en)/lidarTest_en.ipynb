{
  "metadata": {
    "kernelspec": {
      "name": "python",
      "display_name": "Python (Pyodide)",
      "language": "python"
    },
    "language_info": {
      "codemirror_mode": {
        "name": "python",
        "version": 3
      },
      "file_extension": ".py",
      "mimetype": "text/x-python",
      "name": "python",
      "nbconvert_exporter": "python",
      "pygments_lexer": "ipython3",
      "version": "3.8"
    }
  },
  "nbformat_minor": 5,
  "nbformat": 4,
  "cells": [
    {
      "cell_type": "markdown",
      "source": "## LIDAR Handling\n\nIn this tutorial, I will show you how to run the LIDAR using the rplidar library.  \nTo begin with, you need to install the library using the command `pip install rplidar-roboticia`.  \nYou can do this in the terminal or by removing the '#' symbol from the block below.",
      "metadata": {},
      "id": "3d7befac"
    },
    {
      "cell_type": "code",
      "source": "#!pip install rplidar-roboticia",
      "metadata": {},
      "execution_count": null,
      "outputs": [],
      "id": "c7bd0b2c"
    },
    {
      "cell_type": "markdown",
      "source": "Now you need to locate which port the LIDAR is on. If you are using the Jetson Nano AI Kit, it should be `/dev/ttyACM1`.   \nCheck if the library correctly detects the LIDAR by running the following block.\n\n**Important - make sure the LIDAR is powered on, otherwise, it won't be detected!**",
      "metadata": {},
      "id": "bb4058a8"
    },
    {
      "cell_type": "code",
      "source": "%matplotlib inline\n\nfrom rplidar import RPLidar\nPORT_NAME = '/dev/ttyACM1'\n\nlidar = RPLidar(PORT_NAME)\ninfo = lidar.get_info()\nif type(info) == type('string'):\n    raise Exception(\"Buffer jest pełen, spróbuj inny port\")\nhealth = lidar.get_health()\nfor i in info:\n    print(i,\"-\", info[i])\nprint(f'health - {health[0]}')\n\nlidar.stop()\nlidar.stop_motor()\n\n    ",
      "metadata": {},
      "execution_count": null,
      "outputs": [],
      "id": "c8ec32ed"
    },
    {
      "cell_type": "markdown",
      "source": "---\nThe LIDAR should stop, and the block should return a similar result:\n\n```\nmodel - 24\nfirmware - (1, 29)\nhardware - 7\nserialnumber - BC91ED93C0EA98C7A0E69BF52C4F4560\nhealth - Good\n```\n\nIf you encounter an error like:\n\n```\nFileNotFoundError: [Errno 2] No such file or directory: '/dev/ttyUSB1'\n```\n\nTry using a different port.\n\n---\n\nNow let's test if the LIDAR is correctly collecting measurements. Run the next block!",
      "metadata": {},
      "id": "f3369410"
    },
    {
      "cell_type": "code",
      "source": "lidar.start_motor()\n\nfor i, scan in enumerate(lidar.iter_scans()):\n    print('%d: Got %d measurments' % (i, len(scan)))\n    if i > 8:\n        break\n\nlidar.stop_motor()",
      "metadata": {},
      "execution_count": null,
      "outputs": [],
      "id": "7bf96eea"
    },
    {
      "cell_type": "markdown",
      "source": "---\nThe LIDAR should spin, and the function should return a similar result:\n\n```\n0: Got 127 measurements\n1: Got 171 measurements\n2: Got 173 measurements\n3: Got 167 measurements\n4: Got 172 measurements\n5: Got 174 measurements\n6: Got 175 measurements\n7: Got 167 measurements\n8: Got 172 measurements\n9: Got 168 measurements\n```\n\nThis means everything is working correctly!\n\n---\n\nNow, let's move on to creating a simple map of the environment.",
      "metadata": {},
      "id": "5b16ecff"
    },
    {
      "cell_type": "code",
      "source": "import matplotlib.pyplot as plt\nimport numpy as np\nimport time\nfrom IPython.display import display, clear_output\n\ndef run_lidar():\n    lidar = RPLidar(PORT_NAME)\n    \n    # wyczyszczenie danych pozostałych po poprzednim skanie\n    lidar.clean_input()\n    \n    fig, ax = plt.subplots(subplot_kw={'projection': 'polar'})\n    ax.set_rmax(4000)\n    ax.grid(True)\n    \n    try:\n        print(\"Starting to collect data...\")\n        \n        while True:\n            start_time = time.time()\n            scans = []\n            \n            lidar.start_motor()\n            for scan in lidar.iter_scans(max_buf_meas=5000):\n                scans.append(scan)\n                if time.time() - start_time > 2:  # Collect data for 2 seconds\n                    break\n\n            # zatrzymanie lasera na czas drukowania wykresu\n            lidar.stop()\n            \n            # wyczyść zawartość wykresu\n            ax.clear()\n            ax.set_rmax(4000)\n            ax.grid(True)\n            \n            # nanieś dane na wykres\n            for scan in scans:\n                angles = [item[1] for item in scan]\n                distances = [item[2] for item in scan]\n                ax.scatter(np.radians(angles), distances, c='r', s=5)\n            \n            clear_output()\n            display(fig) # wyświetlenie outputu\n            \n            \n    except Exception as e:\n        print(f\"An error occurred: {e}\")\n    except KeyboardInterrupt:\n        print(\"Stopping...\")\n        lidar.stop()\n        lidar.stop_motor()\n\nif __name__ == '__main__':\n    run_lidar()",
      "metadata": {},
      "execution_count": null,
      "outputs": [],
      "id": "52d1404a"
    }
  ]
}