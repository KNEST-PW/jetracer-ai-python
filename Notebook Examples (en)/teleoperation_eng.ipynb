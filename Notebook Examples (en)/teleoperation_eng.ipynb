{
  "metadata": {
    "kernelspec": {
      "name": "python",
      "display_name": "Python (Pyodide)",
      "language": "python"
    },
    "language_info": {
      "codemirror_mode": {
        "name": "python",
        "version": 3
      },
      "file_extension": ".py",
      "mimetype": "text/x-python",
      "name": "python",
      "nbconvert_exporter": "python",
      "pygments_lexer": "ipython3",
      "version": "3.8"
    }
  },
  "nbformat_minor": 4,
  "nbformat": 4,
  "cells": [
    {
      "cell_type": "markdown",
      "source": "## Robot Control Using a Controller - ipywidgets\n---\nThe main goal of using the ipywidgets library is the simplicity of connecting a controller to a robot.  \nLet's start by importing the library.  \nipywidgets allows us to create interactive widgets in the Jupyter environment.",
      "metadata": {}
    },
    {
      "cell_type": "markdown",
      "source": "### Connecting the Controller\n\nThe first thing we want to do is connect the controller to the computer.\nNext, we need to determine the `index` of our gamepad - if you have only one controller connected,\ntry skipping this step.\n\n1. Visit the website [http://html5gamepad.com](http://html5gamepad.com),\n2. Press buttons on the gamepad you are using,\n3. Remember the ``index`` of the gamepad.\n\nThe next step is to create an instance of the `Controller` widget, which we will use to control our robot.  \nThe `Controller` widget accepts the `index` parameter from the previous step.\n\nFinally, we display the widget in the console.",
      "metadata": {
        "tags": []
      }
    },
    {
      "cell_type": "code",
      "source": "import ipywidgets.widgets as widgets\n\ncontroller = widgets.Controller(index=0)  # replace with index of your controller\n\ndisplay(controller)",
      "metadata": {},
      "execution_count": null,
      "outputs": []
    },
    {
      "cell_type": "markdown",
      "source": "---\nIf the pad is correctly connected, a message should appear saying \"Connect gamepad and press any button\". Try pressing some buttons!\n\n---",
      "metadata": {
        "tags": []
      }
    },
    {
      "cell_type": "markdown",
      "source": "### Connecting the Robot\n\nWe will use the [traitlets](https://traitlets.readthedocs.io/en/stable/) library because it is already used in the robot's files. Interfacing with the variables of this library will be easier if we use it.\n  \n### A Few Points About Traitlets\n1. The library 'wraps' basic variables (float, int, string) with additional functions,\n2. Variables are defined as: `steering = traitlets.Float()`,\n3. New functions include, for example:\n    a) observe - allows a specific function to be called with each modification of the variable,\n    b) dlink - allows for the \"connection\" of two variables - their values will always correspond to each other.\n   \nI recommend further independent analysis of the [traitlets](https://traitlets.readthedocs.io/en/stable/) library.\n\n\n\n**NOTE: A few seconds after running the next instruction, the robot will be controlled by the pad.**",
      "metadata": {}
    },
    {
      "cell_type": "code",
      "source": "import traitlets\nfrom jetracer.nvidia_racecar import NvidiaRacecar\ncar = NvidiaRacecar()\n\ndef update_steer(change):\n    car.steering = change['new']\n    \ndef update_throttle(change):\n    car.throttle = change['new']*-1    \n\ncontroller.axes[0].observe(update_steer, names='value')\ncontroller.axes[3].observe(update_throttle, names='value')",
      "metadata": {},
      "execution_count": null,
      "outputs": []
    },
    {
      "cell_type": "markdown",
      "source": "If everything worked correctly, the robot should be controlled by the pad!",
      "metadata": {}
    },
    {
      "cell_type": "markdown",
      "source": "### Time for the Image\n\nWith the help of the `ipwidgets` library, we can also display images to the terminal. A great test of this function will be to send the image from the robot's camera.   \nLet's start by creating an object of the `Image` class.",
      "metadata": {}
    },
    {
      "cell_type": "code",
      "source": "img = widgets.Image(format='jpeg', width=640, height=480)",
      "metadata": {},
      "execution_count": null,
      "outputs": []
    },
    {
      "cell_type": "markdown",
      "source": "At this point, our `img` object is empty. We need to fill it with an image from the camera, to do this let's import the Jetson files.\n   \nNext, we create a camera object and turn it on.",
      "metadata": {}
    },
    {
      "cell_type": "code",
      "source": "from jetcam.csi_camera import CSICamera\n\ncamera = CSICamera(width=640, height=480)\ncamera.running = True",
      "metadata": {},
      "execution_count": null,
      "outputs": []
    },
    {
      "cell_type": "markdown",
      "source": "Before connecting the variables, we need to do some image preprocessing.   \nOur camera class currently only generates values in the BGR8 format (blue, green, red, 8-bit),   \nwhile our image widget accepts values in the compressed *JPEG* format. We will use the function `bgr8_to_jpeg` from the Jetson `jetcam.utils` files.\n   \nThe last step is to connect the two variables using `traitlets`.",
      "metadata": {}
    },
    {
      "cell_type": "code",
      "source": "from jetcam.utils import bgr8_to_jpeg\n\ncamera_link = traitlets.dlink((camera, 'value'), (img, 'value'), transform=bgr8_to_jpeg)\ndisplay(img)",
      "metadata": {},
      "execution_count": null,
      "outputs": []
    },
    {
      "cell_type": "markdown",
      "source": "The camera should be working!\n\nYou can right-click on the image and choose \"Create New View for Output\" so that the image appears in a new window.\n  \nTo use the camera in another notebook, reset or turn off the kernel.\n  \n### That's All\n\nHave fun   \ncreated by: Michał Kozłowski",
      "metadata": {}
    }
  ]
}